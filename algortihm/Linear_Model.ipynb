{
 "cells": [
  {
   "cell_type": "code",
   "execution_count": 2,
   "id": "d1574946",
   "metadata": {},
   "outputs": [
    {
     "name": "stdout",
     "output_type": "stream",
     "text": [
      "5 FIRST ROWS OF TRAINING DATASET\n",
      "   OZONE     NO2  temp  no2op1  no2op2  o3op1  o3op2\n",
      "0  77.59   6.881  36.2   199.0   200.0  240.0  197.0\n",
      "1  78.71  11.057  36.3   196.0   200.0  237.0  196.0\n",
      "2  78.85   8.596  36.7   195.0   199.0  235.0  196.0\n",
      "3  79.27   7.248  37.0   193.0   198.0  233.0  195.0\n",
      "4  80.01   8.638  36.8   191.0   198.0  231.0  195.0\n",
      "./\n",
      "5 FIRST ROWS OF TEST DATASET\n",
      "    OZONE    NO2  temp  no2op1  no2op2  o3op1  o3op2\n",
      "0  71.327  8.801  41.2   179.0   194.0  220.0  192.0\n",
      "1  72.317  5.536  41.1   181.0   196.0  222.0  192.0\n",
      "2  74.440  4.574  41.0   181.0   195.0  222.0  192.0\n",
      "3  74.033  6.426  40.9   179.0   194.0  220.0  192.0\n",
      "4  73.080  5.825  40.9   181.0   195.0  222.0  193.0\n"
     ]
    }
   ],
   "source": [
    "import pandas as pd\n",
    "import numpy as np\n",
    "import cvxpy as cp\n",
    "from sklearn.linear_model import LinearRegression, Lasso, Ridge\n",
    "from sklearn.metrics import mean_absolute_error\n",
    "\n",
    "# Load training and test data\n",
    "train_data = pd.read_csv(\"../Dataset/train.csv\", parse_dates=[\"Time\"])\n",
    "test_data = pd.read_csv(\"../Dataset/dummy_test.csv\", parse_dates=[\"Time\"])\n",
    "columns_to_drop = ['temperature', 'humidity', 'Time']  \n",
    "train_data = train_data.drop(columns=columns_to_drop, errors='ignore')\n",
    "test_data = test_data.drop(columns=columns_to_drop, errors='ignore')\n",
    "print(\"5 FIRST ROWS OF TRAINING DATASET\")\n",
    "print(train_data.head())\n",
    "print(\"./\")\n",
    "print(\"5 FIRST ROWS OF TEST DATASET\")\n",
    "print(test_data.head())\n",
    "# Features and targets for training\n",
    "X_train = train_data[[\"no2op1\", \"no2op2\", \"o3op1\", \"o3op2\"]]\n",
    "y_train_ozone = train_data[\"OZONE\"]\n",
    "y_train_no2 = train_data[\"NO2\"]\n",
    "\n",
    "# Features and targets for test\n",
    "X_test = test_data[[\"no2op1\", \"no2op2\", \"o3op1\", \"o3op2\"]]\n",
    "y_test_ozone = test_data[\"OZONE\"]\n",
    "y_test_no2 = test_data[\"NO2\"]\n",
    "\n",
    "# Convert to numpy arrays for cvxpy\n",
    "X_train_np = X_train.values\n",
    "X_test_np = X_test.values\n",
    "y_train_ozone_np = y_train_ozone.values\n",
    "y_train_no2_np = y_train_no2.values\n",
    "y_test_ozone_np = y_test_ozone.values\n",
    "y_test_no2_np = y_test_no2.values"
   ]
  },
  {
   "cell_type": "code",
   "execution_count": 36,
   "id": "d60ec11a",
   "metadata": {},
   "outputs": [],
   "source": [
    "def training(model, X_train, y_train, X_test, y_test, model_name, target_name):\n",
    "    model.fit(X_train, y_train)\n",
    "    y_train_pred = model.predict(X_train)\n",
    "    y_test_pred = model.predict(X_test)\n",
    "    mae_train = mean_absolute_error(y_train, y_train_pred)\n",
    "    print(f\"{model_name} - {target_name}: MAE (Train) = {mae_train:.4f}\")\n",
    "    print(f\"{model_name} - {target_name} Coefficients:\")\n",
    "    print(f\"p ({target_name.lower()}) (o3op1) = {model.coef_[2]:.4f}\")\n",
    "    print(f\"q ({target_name.lower()}) (o3op2) = {model.coef_[3]:.4f}\")\n",
    "    print(f\"r ({target_name.lower()}) (no2op1) = {model.coef_[0]:.4f}\")\n",
    "    print(f\"s ({target_name.lower()}) (no2op2) = {model.coef_[1]:.4f}\")\n",
    "    print(f\"t ({target_name.lower()}) (intercept) = {model.intercept_:.4f}\\n\")\n",
    "    return mae_train"
   ]
  },
  {
   "cell_type": "markdown",
   "id": "d1d89874",
   "metadata": {},
   "source": [
    "LEAST SQUARE METHOD WITHOUT REGULARIZATION(OZONE) is the best model for predicting OZONE"
   ]
  },
  {
   "cell_type": "code",
   "execution_count": 37,
   "id": "c72d1110",
   "metadata": {},
   "outputs": [
    {
     "name": "stdout",
     "output_type": "stream",
     "text": [
      "least square - OZONE: MAE (Train) = 5.6259\n",
      "least square - OZONE Coefficients:\n",
      "p (ozone) (o3op1) = 1.5643\n",
      "q (ozone) (o3op2) = -0.9241\n",
      "r (ozone) (no2op1) = -1.7559\n",
      "s (ozone) (no2op2) = 1.1150\n",
      "t (ozone) (intercept) = 10.9386\n",
      "\n"
     ]
    },
    {
     "data": {
      "text/plain": [
       "5.6259377355149365"
      ]
     },
     "execution_count": 37,
     "metadata": {},
     "output_type": "execute_result"
    }
   ],
   "source": [
    "BEST_OZONE_MODEL = LinearRegression()\n",
    "name1 = \"least square\"\n",
    "training(BEST_OZONE_MODEL, X_train, y_train_ozone, X_test, y_test_ozone, name1, \"OZONE\")"
   ]
  },
  {
   "cell_type": "markdown",
   "id": "88f463fc",
   "metadata": {},
   "source": [
    "LEAST SQUARE METHOD WITH RIDGE (OZONE)"
   ]
  },
  {
   "cell_type": "code",
   "execution_count": 38,
   "id": "b1e30611",
   "metadata": {},
   "outputs": [
    {
     "name": "stdout",
     "output_type": "stream",
     "text": [
      "Ridge regression - OZONE: MAE (Train) = 5.6259\n",
      "Ridge regression - OZONE Coefficients:\n",
      "p (ozone) (o3op1) = 1.5643\n",
      "q (ozone) (o3op2) = -0.9240\n",
      "r (ozone) (no2op1) = -1.7559\n",
      "s (ozone) (no2op2) = 1.1149\n",
      "t (ozone) (intercept) = 10.9399\n",
      "\n"
     ]
    },
    {
     "data": {
      "text/plain": [
       "5.625938089364324"
      ]
     },
     "execution_count": 38,
     "metadata": {},
     "output_type": "execute_result"
    }
   ],
   "source": [
    "ridge_OZONE_Model = Ridge(alpha=1.0)\n",
    "name2 = \"Ridge regression\"\n",
    "training(ridge_OZONE_Model, X_train, y_train_ozone, X_test, y_test_ozone, name2, \"OZONE\")"
   ]
  },
  {
   "cell_type": "markdown",
   "id": "7c7d72d8",
   "metadata": {},
   "source": [
    "LEAST SQUARE METHOD WITH LASSO (OZONE)"
   ]
  },
  {
   "cell_type": "code",
   "execution_count": 39,
   "id": "438cf037",
   "metadata": {},
   "outputs": [
    {
     "name": "stdout",
     "output_type": "stream",
     "text": [
      "Lasso regression - OZONE: MAE (Train) = 5.6804\n",
      "Lasso regression - OZONE Coefficients:\n",
      "p (ozone) (o3op1) = 1.5286\n",
      "q (ozone) (o3op2) = 0.0000\n",
      "r (ozone) (no2op1) = -1.6888\n",
      "s (ozone) (no2op2) = 0.1164\n",
      "t (ozone) (intercept) = 22.8060\n",
      "\n"
     ]
    },
    {
     "data": {
      "text/plain": [
       "5.680444323222144"
      ]
     },
     "execution_count": 39,
     "metadata": {},
     "output_type": "execute_result"
    }
   ],
   "source": [
    "lasso_OZONE_Model = Lasso(alpha=1.0)\n",
    "name3 = \"Lasso regression\"\n",
    "training(lasso_OZONE_Model, X_train, y_train_ozone, X_test, y_test_ozone, name3, \"OZONE\")"
   ]
  },
  {
   "cell_type": "markdown",
   "id": "82822887",
   "metadata": {},
   "source": [
    "LEAST SQUARE METHOD WITHOUT REGULARIZATION(NO2) is the best model for predicting NO2"
   ]
  },
  {
   "cell_type": "code",
   "execution_count": 40,
   "id": "f630f78f",
   "metadata": {},
   "outputs": [
    {
     "name": "stdout",
     "output_type": "stream",
     "text": [
      "least square - NO2: MAE (Train) = 5.6259\n",
      "least square - NO2 Coefficients:\n",
      "p (no2) (o3op1) = 1.5643\n",
      "q (no2) (o3op2) = -0.9241\n",
      "r (no2) (no2op1) = -1.7559\n",
      "s (no2) (no2op2) = 1.1150\n",
      "t (no2) (intercept) = 10.9386\n",
      "\n"
     ]
    },
    {
     "data": {
      "text/plain": [
       "5.6259377355149365"
      ]
     },
     "execution_count": 40,
     "metadata": {},
     "output_type": "execute_result"
    }
   ],
   "source": [
    "BEST_NO2_MODEL = LinearRegression()\n",
    "name4 = \"least square\"\n",
    "training(BEST_NO2_MODEL, X_train, y_train_ozone, X_test, y_test_ozone, name4, \"NO2\")"
   ]
  },
  {
   "cell_type": "markdown",
   "id": "ff446f7a",
   "metadata": {},
   "source": [
    "LEAST SQUARE METHOD WITH RIDGE (NO2)"
   ]
  },
  {
   "cell_type": "code",
   "execution_count": 41,
   "id": "595221fa",
   "metadata": {},
   "outputs": [
    {
     "name": "stdout",
     "output_type": "stream",
     "text": [
      "Ridge regression - OZONE: MAE (Train) = 5.6259\n",
      "Ridge regression - OZONE Coefficients:\n",
      "p (ozone) (o3op1) = 1.5643\n",
      "q (ozone) (o3op2) = -0.9240\n",
      "r (ozone) (no2op1) = -1.7559\n",
      "s (ozone) (no2op2) = 1.1149\n",
      "t (ozone) (intercept) = 10.9399\n",
      "\n"
     ]
    },
    {
     "data": {
      "text/plain": [
       "5.625938089364324"
      ]
     },
     "execution_count": 41,
     "metadata": {},
     "output_type": "execute_result"
    }
   ],
   "source": [
    "ridge_NO2_Model = Ridge(alpha=1.0)\n",
    "name5 = \"Ridge regression\"\n",
    "training(ridge_NO2_Model, X_train, y_train_ozone, X_test, y_test_ozone, name5, \"OZONE\")"
   ]
  },
  {
   "cell_type": "markdown",
   "id": "3567a664",
   "metadata": {},
   "source": [
    "LEAST SQUARE METHOD WITH LASSO (OZONE)"
   ]
  },
  {
   "cell_type": "code",
   "execution_count": 42,
   "id": "9c7a9454",
   "metadata": {},
   "outputs": [
    {
     "name": "stdout",
     "output_type": "stream",
     "text": [
      "Lasso regression - OZONE: MAE (Train) = 5.6804\n",
      "Lasso regression - OZONE Coefficients:\n",
      "p (ozone) (o3op1) = 1.5286\n",
      "q (ozone) (o3op2) = 0.0000\n",
      "r (ozone) (no2op1) = -1.6888\n",
      "s (ozone) (no2op2) = 0.1164\n",
      "t (ozone) (intercept) = 22.8060\n",
      "\n"
     ]
    },
    {
     "data": {
      "text/plain": [
       "5.680444323222144"
      ]
     },
     "execution_count": 42,
     "metadata": {},
     "output_type": "execute_result"
    }
   ],
   "source": [
    "lasso_NO2_Model = Lasso(alpha=1.0)\n",
    "name6 = \"Lasso regression\"\n",
    "training(lasso_NO2_Model, X_train, y_train_ozone, X_test, y_test_ozone, name6, \"OZONE\")"
   ]
  }
 ],
 "metadata": {
  "kernelspec": {
   "display_name": "Python 3",
   "language": "python",
   "name": "python3"
  },
  "language_info": {
   "codemirror_mode": {
    "name": "ipython",
    "version": 3
   },
   "file_extension": ".py",
   "mimetype": "text/x-python",
   "name": "python",
   "nbconvert_exporter": "python",
   "pygments_lexer": "ipython3",
   "version": "3.13.1"
  }
 },
 "nbformat": 4,
 "nbformat_minor": 5
}
